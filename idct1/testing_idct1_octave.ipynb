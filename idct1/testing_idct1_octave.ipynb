{
 "cells": [
  {
   "cell_type": "code",
   "execution_count": 3,
   "metadata": {
    "vscode": {
     "languageId": "python"
    }
   },
   "outputs": [],
   "source": [
    "#load the package\n",
    "pkg load signal"
   ]
  },
  {
   "cell_type": "markdown",
   "metadata": {},
   "source": [
    "# The first Calling sequence\n",
    "- `idct1(x)`\n",
    "\n",
    "\n",
    "<span style=\"color:yellow\">testing with vectors</span>"
   ]
  },
  {
   "cell_type": "code",
   "execution_count": 4,
   "metadata": {
    "vscode": {
     "languageId": "python"
    }
   },
   "outputs": [
    {
     "name": "stdout",
     "output_type": "stream",
     "text": [
      "ans = 1\n",
      "ans =\n",
      "\n",
      "   3.2163  -1.8721   0.3879\n",
      "\n",
      "ans =\n",
      "\n",
      "   146.102\n",
      "   -32.868\n",
      "    64.868\n",
      "    19.898\n",
      "\n"
     ]
    }
   ],
   "source": [
    "idct(1)\n",
    "\n",
    "idct([1 2 3])\n",
    "\n",
    "idct([99;56;67;98])"
   ]
  },
  {
   "cell_type": "markdown",
   "metadata": {},
   "source": [
    "<span style=\"color:green\">same results from our scilab function</span> \n",
    "\n",
    "\n",
    " ## Now, testing with Matrices"
   ]
  },
  {
   "cell_type": "code",
   "execution_count": 5,
   "metadata": {
    "vscode": {
     "languageId": "python"
    }
   },
   "outputs": [
    {
     "name": "stdout",
     "output_type": "stream",
     "text": [
      "ans =\n",
      "\n",
      "   3.5355   4.9497   6.3640\n",
      "  -2.1213  -2.1213  -2.1213\n",
      "\n",
      "ans =\n",
      "\n",
      "   49.049   45.926\n",
      "  -47.797  -51.552\n",
      "  -38.203  -12.448\n",
      "   38.951   22.074\n",
      "\n"
     ]
    }
   ],
   "source": [
    "idct([1 2 3;4 5 6])\n",
    "\n",
    "idct([1 2;4 5;87 66;09 32])"
   ]
  },
  {
   "cell_type": "markdown",
   "metadata": {},
   "source": [
    "# The second calling sequence\n",
    "- `idct(x,n)`\n"
   ]
  },
  {
   "cell_type": "code",
   "execution_count": 6,
   "metadata": {
    "vscode": {
     "languageId": "python"
    }
   },
   "outputs": [
    {
     "name": "stdout",
     "output_type": "stream",
     "text": [
      "ans =\n",
      "\n",
      "   9.0508e+01   7.1385e+01   5.6734e+01   8.3270e+01\n",
      "   2.4558e+01   2.6046e+01   3.2006e+01   4.4489e+01\n",
      "  -3.6190e+01  -1.6910e+01   6.8430e+00   7.1949e+00\n",
      "  -4.0126e+01  -2.2282e+01   3.5217e-02   1.3661e+00\n",
      "  -1.4153e+01  -6.8100e+00   5.0051e+00   1.3496e+01\n",
      "\n",
      "ans =\n",
      "\n",
      "   5.5271   6.8116\n",
      "   0.5774   1.1547\n",
      "  -4.3724  -4.5022\n",
      "\n"
     ]
    }
   ],
   "source": [
    "idct([11 23 45 67;87 65 43 58;65 43 21 36],5)\n",
    "\n",
    "idct([1 2;7 8],3)"
   ]
  },
  {
   "cell_type": "markdown",
   "metadata": {},
   "source": [
    "<span style=\"color:green\">Outputs are as expected</span>"
   ]
  },
  {
   "cell_type": "markdown",
   "metadata": {},
   "source": [
    "<span style=\"color:red\">This Octave function doesn't handle multi-dim matrices \n",
    "and also does not truncates the matrices even if value of n is passed to it </span>"
   ]
  },
  {
   "cell_type": "code",
   "execution_count": 7,
   "metadata": {
    "vscode": {
     "languageId": "python"
    }
   },
   "outputs": [
    {
     "name": "stdout",
     "output_type": "stream",
     "text": [
      "error: product: nonconformant arguments (op1 is 2x6, op2 is 2x3x2)\n",
      "error: called from\n",
      "    idct at line 60 column 7\n"
     ]
    }
   ],
   "source": [
    "# here is an 3d matrices\n",
    "a=[1 2 3;4 5 6];a(:,:,2)=[1 4 6;7 8 9];\n",
    "idct(a)"
   ]
  },
  {
   "cell_type": "code",
   "execution_count": 8,
   "metadata": {
    "vscode": {
     "languageId": "python"
    }
   },
   "outputs": [
    {
     "name": "stdout",
     "output_type": "stream",
     "text": [
      "error: x0: subscripts must be either integers 1 to (2^63)-1 or logicals\n",
      "error: called from\n",
      "    idct at line 55 column 23\n"
     ]
    }
   ],
   "source": [
    "# here is when n is less than the dim \n",
    "idct([1 2 3;4 5 6;7 8 9],2)"
   ]
  },
  {
   "cell_type": "markdown",
   "metadata": {},
   "source": [
    "<span style=\"color:green\">Our Scilab function handle these cases properly ,\n",
    "for verification  we will verify with Matlab's idct function.\n",
    "A screenshot is there with files</span>"
   ]
  }
 ],
 "metadata": {
  "kernelspec": {
   "display_name": "Octave",
   "language": "octave",
   "name": "octave"
  },
  "language_info": {
   "file_extension": ".m",
   "help_links": [
    {
     "text": "GNU Octave",
     "url": "https://www.gnu.org/software/octave/support.html"
    },
    {
     "text": "Octave Kernel",
     "url": "https://github.com/Calysto/octave_kernel"
    },
    {
     "text": "MetaKernel Magics",
     "url": "https://metakernel.readthedocs.io/en/latest/source/README.html"
    }
   ],
   "mimetype": "text/x-octave",
   "name": "octave",
   "version": "8.4.0"
  }
 },
 "nbformat": 4,
 "nbformat_minor": 2
}
