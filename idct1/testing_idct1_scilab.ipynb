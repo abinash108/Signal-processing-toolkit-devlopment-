{
 "cells": [
  {
   "cell_type": "code",
   "execution_count": 1,
   "metadata": {
    "vscode": {
     "languageId": "scilab"
    }
   },
   "outputs": [
    {
     "name": "stdout",
     "output_type": "stream",
     "text": [
      "\n",
      "\n"
     ]
    }
   ],
   "source": [
    "exec(\"idct1/idct1.sci\",-1)"
   ]
  },
  {
   "cell_type": "markdown",
   "metadata": {},
   "source": [
    "# The first Calling sequence\n",
    "- `idct1(x)`\n",
    "\n",
    "\n",
    "<span style=\"color:yellow\">testing with vectors</span>"
   ]
  },
  {
   "cell_type": "markdown",
   "metadata": {},
   "source": [
    "Testing 1 D vectors"
   ]
  },
  {
   "cell_type": "code",
   "execution_count": 29,
   "metadata": {
    "vscode": {
     "languageId": "scilab"
    }
   },
   "outputs": [
    {
     "name": "stdout",
     "output_type": "stream",
     "text": [
      "\n",
      " ans  =\n",
      "\n",
      "   1.\n",
      "\n",
      "\n",
      " ans  =\n",
      "\n",
      "   3.2163087  -1.8721395   0.3878816\n",
      "\n",
      "\n",
      " ans  =\n",
      "\n",
      "   146.10237\n",
      "  -32.868094\n",
      "   64.868094\n",
      "   19.897628\n",
      "\n"
     ]
    }
   ],
   "source": [
    "idct1(1)\n",
    "\n",
    "idct1([1 2 3])\n",
    "\n",
    "idct1([99;56;67;98])"
   ]
  },
  {
   "cell_type": "markdown",
   "metadata": {},
   "source": [
    "<span style=\"color:green\">function working correctly, outputs match with the  octave </span>"
   ]
  },
  {
   "cell_type": "markdown",
   "metadata": {},
   "source": [
    "## testing with Matrices"
   ]
  },
  {
   "cell_type": "code",
   "execution_count": 30,
   "metadata": {
    "vscode": {
     "languageId": "scilab"
    }
   },
   "outputs": [
    {
     "name": "stdout",
     "output_type": "stream",
     "text": [
      "\n",
      " ans  =\n",
      "\n",
      "   3.5355339   4.9497475   6.363961 \n",
      "  -2.1213203  -2.1213203  -2.1213203\n",
      "\n",
      "\n",
      " ans  =\n",
      "\n",
      "   49.048508   45.925545\n",
      "  -47.797141  -51.552017\n",
      "  -38.202859  -12.447983\n",
      "   38.951492   22.074455\n",
      "\n"
     ]
    }
   ],
   "source": [
    "idct1([1 2 3;4 5 6]) \n",
    "\n",
    "idct1([1 2;4 5;87 66;09 32])"
   ]
  },
  {
   "cell_type": "markdown",
   "metadata": {},
   "source": [
    "# The second calling sequence\n",
    "- `idct1(x,n)`\n"
   ]
  },
  {
   "cell_type": "code",
   "execution_count": 32,
   "metadata": {
    "vscode": {
     "languageId": "scilab"
    }
   },
   "outputs": [
    {
     "name": "stdout",
     "output_type": "stream",
     "text": [
      "\n",
      " ans  =\n",
      "\n",
      "   90.508305   71.385168   56.734166   83.270388\n",
      "   24.557861   26.045636   32.005548   44.488875\n",
      "  -36.19026   -16.909675   6.8430456   7.1949117\n",
      "  -40.126297  -22.281608   0.0352167   1.3661026\n",
      "  -14.152861  -6.8099566   5.0050835   13.496277\n",
      "\n",
      "\n",
      " ans  =\n",
      "\n",
      "   5.5270977   6.8115548\n",
      "   0.5773503   1.1547005\n",
      "  -4.3723972  -4.5021537\n",
      "\n"
     ]
    }
   ],
   "source": [
    "idct1([11 23 45 67;87 65 43 58;65 43 21 36],5)\n",
    "\n",
    "idct1([1 2;7 8],3)"
   ]
  },
  {
   "cell_type": "markdown",
   "metadata": {},
   "source": [
    "<span style=\"color: red ;font-size: 14px;\">\n",
    "Please check the octave outputs file, there is some bug in that function for multi-dim matrices and it is not truncating the matrices\n",
    "</span>\n"
   ]
  },
  {
   "cell_type": "markdown",
   "metadata": {},
   "source": [
    "<span style=\"color:green; font-size: 16px\">The outputs below are verified from Matlab's idct function. Check the screenshot. </span>"
   ]
  },
  {
   "cell_type": "code",
   "execution_count": 38,
   "metadata": {
    "vscode": {
     "languageId": "scilab"
    }
   },
   "outputs": [
    {
     "name": "stdout",
     "output_type": "stream",
     "text": [
      "\n",
      "\n",
      " ans  =\n",
      "\n",
      "(:,:,1)\n",
      "\n",
      "   3.5355339   4.9497475   6.363961 \n",
      "  -2.1213203  -2.1213203  -2.1213203\n",
      "(:,:,2)\n",
      "\n",
      "   5.6568542   8.4852814   10.606602\n",
      "  -4.2426407  -2.8284271  -2.1213203\n",
      "\n",
      "\n",
      " ans  =\n",
      "\n",
      "(:,:,1)\n",
      "\n",
      "   1.   2.   3.\n",
      "(:,:,2)\n",
      "\n",
      "   1.   4.   6.\n",
      "\n",
      "\n",
      " ans  =\n",
      "\n",
      "   3.5355339   4.9497475   6.363961 \n",
      "  -2.1213203  -2.1213203  -2.1213203\n",
      "\n"
     ]
    }
   ],
   "source": [
    "a=[1 2 3;4 5 6];a(:,:,2)=[1 4 6;7 8 9];\n",
    "idct1(a)\n",
    "\n",
    "idct1(a,1)\n",
    "\n",
    "idct1([1 2 3;4 5 6;7 8 9],2)"
   ]
  },
  {
   "cell_type": "markdown",
   "metadata": {},
   "source": [
    "# testing Complete"
   ]
  },
  {
   "cell_type": "markdown",
   "metadata": {},
   "source": []
  }
 ],
 "metadata": {
  "kernelspec": {
   "display_name": "Scilab",
   "language": "scilab",
   "name": "scilab"
  },
  "language_info": {
   "file_extension": ".sci",
   "help_links": [
    {
     "text": "MetaKernel Magics",
     "url": "https://metakernel.readthedocs.io/en/latest/source/README.html"
    }
   ],
   "mimetype": "text/x-octave",
   "name": "octave",
   "version": "0.9.10"
  }
 },
 "nbformat": 4,
 "nbformat_minor": 2
}
