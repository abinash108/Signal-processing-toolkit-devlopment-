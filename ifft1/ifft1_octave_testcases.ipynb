{
 "cells": [
  {
   "cell_type": "markdown",
   "metadata": {
    "vscode": {
     "languageId": "scilab"
    }
   },
   "source": [
    "# <span style=\"color:green\">ifft1</span> \n",
    "loading the file\n",
    "<p>These results are obtained from <b>Scilab</b></p>"
   ]
  },
  {
   "cell_type": "markdown",
   "metadata": {},
   "source": [
    "# <span style=\"color:orange\">The first calling Sequence</span>\n",
    "## ifft(x)\n",
    "- `Test case 1`"
   ]
  },
  {
   "cell_type": "code",
   "execution_count": 5,
   "metadata": {
    "vscode": {
     "languageId": "scilab"
    }
   },
   "outputs": [
    {
     "name": "stdout",
     "output_type": "stream",
     "text": [
      "ans =\n",
      "\n",
      " Columns 1 through 4:\n",
      "\n",
      "   3.0000 +      0i  -0.5000 - 0.6882i  -0.5000 - 0.1625i  -0.5000 + 0.1625i\n",
      "\n",
      " Column 5:\n",
      "\n",
      "  -0.5000 + 0.6882i\n",
      "\n"
     ]
    }
   ],
   "source": [
    "ifft([1 2 3 4 5])"
   ]
  },
  {
   "cell_type": "markdown",
   "metadata": {},
   "source": [
    "- `Testcase 2`"
   ]
  },
  {
   "cell_type": "code",
   "execution_count": 6,
   "metadata": {
    "vscode": {
     "languageId": "scilab"
    }
   },
   "outputs": [
    {
     "name": "stdout",
     "output_type": "stream",
     "text": [
      "ans =\n",
      "\n",
      "   39.3333 +       0i\n",
      "   -4.6667 -  5.4848i\n",
      "   -6.6667 - 18.1865i\n",
      "   -7.6667 +       0i\n",
      "   -6.6667 + 18.1865i\n",
      "   -4.6667 +  5.4848i\n",
      "\n"
     ]
    }
   ],
   "source": [
    "ifft([9; 8; 65; 43; 21 ;90])"
   ]
  },
  {
   "cell_type": "markdown",
   "metadata": {},
   "source": [
    "# <span style=\"color:green\"> The second calling Sequence</span>\n",
    "## ifft(x,n)\n",
    "- `test case 3`"
   ]
  },
  {
   "cell_type": "code",
   "execution_count": 13,
   "metadata": {
    "vscode": {
     "languageId": "scilab"
    }
   },
   "outputs": [
    {
     "name": "stdout",
     "output_type": "stream",
     "text": [
      "ans =\n",
      "\n",
      " Columns 1 and 2:\n",
      "\n",
      "   3.5375e+02 +          0i   5.2250e+01 +          0i\n",
      "  -5.8250e+01 + 2.4750e+02i  -1.9750e+01 + 5.0000e+00i\n",
      "  -1.4925e+02 +          0i   3.0250e+01 +          0i\n",
      "  -5.8250e+01 - 2.4750e+02i  -1.9750e+01 - 5.0000e+00i\n",
      "\n",
      " Columns 3 and 4:\n",
      "\n",
      "   1.9339e+04 +          0i   7.8895e+03 +          0i\n",
      "   8.5000e+00 + 1.9302e+04i  -5.6500e+01 + 7.8050e+03i\n",
      "  -1.9278e+04 +          0i  -7.7215e+03 +          0i\n",
      "   8.5000e+00 - 1.9302e+04i  -5.6500e+01 - 7.8050e+03i\n",
      "\n"
     ]
    }
   ],
   "source": [
    "ifft([88 43 78 55 ;998  32 77221 31221;321 122 44 281;8 12 12 1],4)"
   ]
  },
  {
   "cell_type": "markdown",
   "metadata": {},
   "source": [
    "- `Test case 4`\n"
   ]
  },
  {
   "cell_type": "code",
   "execution_count": 10,
   "metadata": {
    "vscode": {
     "languageId": "scilab"
    }
   },
   "outputs": [
    {
     "name": "stdout",
     "output_type": "stream",
     "text": [
      "ans =\n",
      "\n",
      "   23   56\n",
      "\n"
     ]
    }
   ],
   "source": [
    "ifft([23 56;89 64;89 76;34 21],1)"
   ]
  },
  {
   "cell_type": "markdown",
   "metadata": {},
   "source": [
    "# <span style=\"color:green\"> Third calling sequence</span>\n",
    "\n",
    "## <span style=\"color:green\">ifft(x,n,dim)</span>\n",
    "\n",
    "- `Test case 5`"
   ]
  },
  {
   "cell_type": "code",
   "execution_count": 9,
   "metadata": {
    "vscode": {
     "languageId": "scilab"
    }
   },
   "outputs": [
    {
     "name": "stdout",
     "output_type": "stream",
     "text": [
      "ans =\n",
      "\n",
      "   2.0000 +      0i  -0.5000 - 0.2887i  -0.5000 + 0.2887i\n",
      "   3.3333 + 1.6667i  -1.1100 - 2.5654i   1.7767 + 0.8987i\n",
      "   2.0472 +      0i   1.5472 - 0.2887i   1.5472 + 0.2887i\n",
      "\n"
     ]
    }
   ],
   "source": [
    "ifft([1 2 3 ;4 5*i 6; 2+pi 0 1],3,2)"
   ]
  },
  {
   "cell_type": "markdown",
   "metadata": {},
   "source": [
    "# <span style=\"color:Green\">This function is consistent with Octave outputs</span>"
   ]
  }
 ],
 "metadata": {
  "kernelspec": {
   "display_name": "Octave",
   "language": "octave",
   "name": "octave"
  },
  "language_info": {
   "file_extension": ".m",
   "help_links": [
    {
     "text": "GNU Octave",
     "url": "https://www.gnu.org/software/octave/support.html"
    },
    {
     "text": "Octave Kernel",
     "url": "https://github.com/Calysto/octave_kernel"
    },
    {
     "text": "MetaKernel Magics",
     "url": "https://metakernel.readthedocs.io/en/latest/source/README.html"
    }
   ],
   "mimetype": "text/x-octave",
   "name": "octave",
   "version": "8.4.0"
  }
 },
 "nbformat": 4,
 "nbformat_minor": 2
}
