{
 "cells": [
  {
   "cell_type": "markdown",
   "metadata": {
    "vscode": {
     "languageId": "scilab"
    }
   },
   "source": [
    "# <span style=\"color:green\">ifft1</span> \n",
    "loading the file\n",
    "<p>These results are obtained from <b>Scilab</b></p>"
   ]
  },
  {
   "cell_type": "code",
   "execution_count": 1,
   "metadata": {
    "vscode": {
     "languageId": "scilab"
    }
   },
   "outputs": [
    {
     "name": "stdout",
     "output_type": "stream",
     "text": [
      "\n",
      "\n"
     ]
    }
   ],
   "source": [
    "exec(\"F:\\Signal-processing-toolkit-devlopment-\\ifft1\\ifft1.sci\",-1)"
   ]
  },
  {
   "cell_type": "markdown",
   "metadata": {},
   "source": [
    "# <span style=\"color:orange\">The first calling Sequence</span>\n",
    "## fftconv(x,y)\n",
    "- `Test case 1`"
   ]
  },
  {
   "cell_type": "code",
   "execution_count": 2,
   "metadata": {
    "vscode": {
     "languageId": "scilab"
    }
   },
   "outputs": [
    {
     "name": "stdout",
     "output_type": "stream",
     "text": [
      "\n",
      " ans  =\n",
      "\n",
      "         column 1 to 4\n",
      "\n",
      "   3. + 0.i  -0.5 - 0.688191i  -0.5 - 0.1624598i  -0.5 + 0.1624598i\n",
      "\n",
      "         column 5\n",
      "\n",
      "  -0.5 + 0.688191i\n",
      "\n"
     ]
    }
   ],
   "source": [
    "ifft1([1:5])"
   ]
  },
  {
   "cell_type": "markdown",
   "metadata": {},
   "source": [
    "- `Testcase 2`"
   ]
  },
  {
   "cell_type": "code",
   "execution_count": 3,
   "metadata": {
    "vscode": {
     "languageId": "scilab"
    }
   },
   "outputs": [
    {
     "name": "stdout",
     "output_type": "stream",
     "text": [
      "\n",
      " ans  =\n",
      "\n",
      "   39.333333 + 0.i       \n",
      "  -4.6666667 - 5.4848276i\n",
      "  -6.6666667 - 18.186533i\n",
      "  -7.6666667 + 0.i       \n",
      "  -6.6666667 + 18.186533i\n",
      "  -4.6666667 + 5.4848276i\n",
      "\n"
     ]
    }
   ],
   "source": [
    "ifft1([9; 8; 65; 43; 21 ;90])"
   ]
  },
  {
   "cell_type": "markdown",
   "metadata": {},
   "source": [
    "# <span style=\"color:green\"> The second calling Sequence</span>\n",
    "## ifft1(x,n)\n",
    "- `test case 3`"
   ]
  },
  {
   "cell_type": "code",
   "execution_count": 7,
   "metadata": {
    "vscode": {
     "languageId": "scilab"
    }
   },
   "outputs": [
    {
     "name": "stdout",
     "output_type": "stream",
     "text": [
      "\n",
      " ans  =\n",
      "\n",
      "         column 1 to 9\n",
      "\n",
      "   2225.   4564.   7018.   9588.   12275.   15080.   12870.   10540.   8089.\n",
      "\n",
      "         column 10 to 11\n",
      "\n",
      "   5516.   2820.\n",
      "\n"
     ]
    }
   ],
   "source": [
    "fftconv([25:30],[89:94],1)"
   ]
  },
  {
   "cell_type": "markdown",
   "metadata": {},
   "source": [
    "- `Test case 4`\n"
   ]
  },
  {
   "cell_type": "code",
   "execution_count": 7,
   "metadata": {
    "vscode": {
     "languageId": "scilab"
    }
   },
   "outputs": [
    {
     "name": "stdout",
     "output_type": "stream",
     "text": [
      "\n",
      " ans  =\n",
      "\n",
      "   353.75 + 0.i      52.25 + 0.i   19338.75 + 0.i         7889.5 + 0.i   \n",
      "  -58.25  + 247.5i  -19.75 + 5.i   8.5      + 19302.25i  -56.5   + 7805.i\n",
      "  -149.25 + 0.i      30.25 + 0.i  -19277.75 + 0.i        -7721.5 + 0.i   \n",
      "  -58.25  - 247.5i  -19.75 - 5.i   8.5      - 19302.25i  -56.5   - 7805.i\n",
      "\n"
     ]
    }
   ],
   "source": [
    "ifft1([88 43 78 55 ;998  32 77221 31221;321 122 44 281;8 12 12 1],4)"
   ]
  },
  {
   "cell_type": "markdown",
   "metadata": {},
   "source": [
    "# <span style=\"color:green\"> Third calling sequence</span>\n",
    "\n",
    "## <span style=\"color:green\">ifft1(x,n,dim)</span>\n",
    "\n",
    "- `Test case 5`"
   ]
  },
  {
   "cell_type": "code",
   "execution_count": 4,
   "metadata": {
    "vscode": {
     "languageId": "scilab"
    }
   },
   "outputs": [
    {
     "name": "stdout",
     "output_type": "stream",
     "text": [
      "\n",
      " ans  =\n",
      "\n",
      "   2.        + 0.i         -0.5       - 0.2886751i  -0.5       + 0.2886751i\n",
      "   3.3333333 + 1.6666667i  -1.1100423 - 2.5653841i   1.776709  + 0.8987175i\n",
      "   2.0471976 + 0.i          1.5471976 - 0.2886751i   1.5471976 + 0.2886751i\n",
      "\n"
     ]
    }
   ],
   "source": [
    "ifft1([1 2 3 ;4 5*%i 6; 2+%pi 0 1],3,2)"
   ]
  },
  {
   "cell_type": "markdown",
   "metadata": {},
   "source": [
    "# <span style=\"color:Green\">This function is consistent with Octave outputs</span>"
   ]
  }
 ],
 "metadata": {
  "kernelspec": {
   "display_name": "Scilab",
   "language": "scilab",
   "name": "scilab"
  },
  "language_info": {
   "file_extension": ".sci",
   "help_links": [
    {
     "text": "MetaKernel Magics",
     "url": "https://metakernel.readthedocs.io/en/latest/source/README.html"
    }
   ],
   "mimetype": "text/x-octave",
   "name": "octave",
   "version": "0.9.10"
  }
 },
 "nbformat": 4,
 "nbformat_minor": 2
}
