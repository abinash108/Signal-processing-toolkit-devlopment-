{
 "cells": [
  {
   "cell_type": "markdown",
   "metadata": {
    "vscode": {
     "languageId": "scilab"
    }
   },
   "source": [
    "# <span style=\"color:green\">fftconv</span> \n",
    "<p>These results are obtained from <b>Octave</b></p>"
   ]
  },
  {
   "cell_type": "markdown",
   "metadata": {},
   "source": [
    "# <span style=\"color:orange\">The first calling Sequence</span>\n",
    "## fftconv(x,y)\n",
    "- `Test case 1`"
   ]
  },
  {
   "cell_type": "code",
   "execution_count": 1,
   "metadata": {
    "vscode": {
     "languageId": "scilab"
    }
   },
   "outputs": [
    {
     "name": "stdout",
     "output_type": "stream",
     "text": [
      "ans =\n",
      "\n",
      "    4   13   28   27   18\n",
      "\n"
     ]
    }
   ],
   "source": [
    "fftconv([1 2 3],[4  5 6])"
   ]
  },
  {
   "cell_type": "markdown",
   "metadata": {},
   "source": [
    "- `Testcase 2`"
   ]
  },
  {
   "cell_type": "code",
   "execution_count": 2,
   "metadata": {
    "vscode": {
     "languageId": "scilab"
    }
   },
   "outputs": [
    {
     "name": "stdout",
     "output_type": "stream",
     "text": [
      "ans =\n",
      "\n",
      "    1098    1759    9211   11421   10528   15602    9195    5850\n",
      "\n"
     ]
    }
   ],
   "source": [
    "fftconv([9 8 65 43 21 90],[ 122 87 65])"
   ]
  },
  {
   "cell_type": "markdown",
   "metadata": {},
   "source": [
    "# <span style=\"color:green\"> The second calling Sequence</span>\n",
    "## fftconv(x,y,n)\n",
    "- `test case 3`"
   ]
  },
  {
   "cell_type": "code",
   "execution_count": 3,
   "metadata": {
    "vscode": {
     "languageId": "scilab"
    }
   },
   "outputs": [
    {
     "name": "stdout",
     "output_type": "stream",
     "text": [
      "ans =\n",
      "\n",
      " Columns 1 through 10:\n",
      "\n",
      "    2225    4564    7018    9588   12275   15080   12870   10540    8089    5516\n",
      "\n",
      " Column 11:\n",
      "\n",
      "    2820\n",
      "\n"
     ]
    }
   ],
   "source": [
    "fftconv([25:30],[89:94],1)"
   ]
  },
  {
   "cell_type": "markdown",
   "metadata": {},
   "source": [
    "- `Test case 4`\n"
   ]
  },
  {
   "cell_type": "code",
   "execution_count": 4,
   "metadata": {
    "vscode": {
     "languageId": "scilab"
    }
   },
   "outputs": [
    {
     "name": "stdout",
     "output_type": "stream",
     "text": [
      "ans =\n",
      "\n",
      "        0 + 3.1416i   8.8696 +      0i   6.2832 + 3.1416i        0 + 2.0000i\n",
      "\n"
     ]
    }
   ],
   "source": [
    "fftconv([i pi 2],[pi i],1)"
   ]
  },
  {
   "cell_type": "markdown",
   "metadata": {},
   "source": [
    "- `Test case 5`"
   ]
  },
  {
   "cell_type": "code",
   "execution_count": 5,
   "metadata": {
    "vscode": {
     "languageId": "scilab"
    }
   },
   "outputs": [
    {
     "name": "stdout",
     "output_type": "stream",
     "text": [
      "ans =\n",
      "\n",
      " Columns 1 through 3:\n",
      "\n",
      "    87.0000 -   0.0000i   238.0000 +   0.0000i   442.0000 +   0.0000i\n",
      "\n",
      " Columns 4 through 6:\n",
      "\n",
      "   646.0000 +   1.0000i   415.0000 + 437.0000i   659.3186 + 323.0000i\n",
      "\n",
      " Columns 7 through 9:\n",
      "\n",
      "   329.0619 + 269.0000i   267.5044 -   0.0000i     0.0000 +   5.1416i\n",
      "\n",
      " Columns 10 and 11:\n",
      "\n",
      "     0.0000 +   0.0000i          0 +   0.0000i\n",
      "\n"
     ]
    }
   ],
   "source": [
    "fftconv([1 2 3 4 5*i 2+pi],[87 64 53 i 0 0 ],2)"
   ]
  },
  {
   "cell_type": "markdown",
   "metadata": {},
   "source": [
    "# <span style=\"color:Green\">We are getting the Same outputs from our Scilab function </span>"
   ]
  }
 ],
 "metadata": {
  "kernelspec": {
   "display_name": "Octave",
   "language": "octave",
   "name": "octave"
  },
  "language_info": {
   "file_extension": ".m",
   "help_links": [
    {
     "text": "GNU Octave",
     "url": "https://www.gnu.org/software/octave/support.html"
    },
    {
     "text": "Octave Kernel",
     "url": "https://github.com/Calysto/octave_kernel"
    },
    {
     "text": "MetaKernel Magics",
     "url": "https://metakernel.readthedocs.io/en/latest/source/README.html"
    }
   ],
   "mimetype": "text/x-octave",
   "name": "octave",
   "version": "8.4.0"
  }
 },
 "nbformat": 4,
 "nbformat_minor": 2
}
