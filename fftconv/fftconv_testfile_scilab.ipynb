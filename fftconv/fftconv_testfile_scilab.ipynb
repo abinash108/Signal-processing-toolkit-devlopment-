{
 "cells": [
  {
   "cell_type": "markdown",
   "metadata": {
    "vscode": {
     "languageId": "scilab"
    }
   },
   "source": [
    "# <span style=\"color:green\">fftconv</span> \n",
    "loading the file\n",
    "<p>These results are obtained from <b>Scilab</b></p>"
   ]
  },
  {
   "cell_type": "code",
   "execution_count": 4,
   "metadata": {
    "vscode": {
     "languageId": "scilab"
    }
   },
   "outputs": [
    {
     "name": "stdout",
     "output_type": "stream",
     "text": [
      "\n",
      "\n"
     ]
    }
   ],
   "source": [
    "exec(\"F:\\Signal-processing-toolkit-devlopment-\\fftconv\\fftconv.sci\",-1)"
   ]
  },
  {
   "cell_type": "markdown",
   "metadata": {},
   "source": [
    "# <span style=\"color:orange\">The first calling Sequence</span>\n",
    "## fftconv(x,y)\n",
    "- `Test case 1`"
   ]
  },
  {
   "cell_type": "code",
   "execution_count": 5,
   "metadata": {
    "vscode": {
     "languageId": "scilab"
    }
   },
   "outputs": [
    {
     "name": "stdout",
     "output_type": "stream",
     "text": [
      "\n",
      " ans  =\n",
      "\n",
      "   4.   13.   28.   27.   18.\n",
      "\n"
     ]
    }
   ],
   "source": [
    "fftconv([1 2 3],[4  5 6])"
   ]
  },
  {
   "cell_type": "markdown",
   "metadata": {},
   "source": [
    "- `Testcase 2`"
   ]
  },
  {
   "cell_type": "code",
   "execution_count": 6,
   "metadata": {
    "vscode": {
     "languageId": "scilab"
    }
   },
   "outputs": [
    {
     "name": "stdout",
     "output_type": "stream",
     "text": [
      "\n",
      " ans  =\n",
      "\n",
      "   1098.   1759.   9211.   11421.   10528.   15602.   9195.   5850.\n",
      "\n"
     ]
    }
   ],
   "source": [
    "fftconv([9 8 65 43 21 90],[ 122 87 65])"
   ]
  },
  {
   "cell_type": "markdown",
   "metadata": {},
   "source": [
    "# <span style=\"color:green\"> The second calling Sequence</span>\n",
    "## fftconv(x,y,n)\n",
    "- `test case 3`"
   ]
  },
  {
   "cell_type": "code",
   "execution_count": 7,
   "metadata": {
    "vscode": {
     "languageId": "scilab"
    }
   },
   "outputs": [
    {
     "name": "stdout",
     "output_type": "stream",
     "text": [
      "\n",
      " ans  =\n",
      "\n",
      "         column 1 to 9\n",
      "\n",
      "   2225.   4564.   7018.   9588.   12275.   15080.   12870.   10540.   8089.\n",
      "\n",
      "         column 10 to 11\n",
      "\n",
      "   5516.   2820.\n",
      "\n"
     ]
    }
   ],
   "source": [
    "fftconv([25:30],[89:94],1)"
   ]
  },
  {
   "cell_type": "markdown",
   "metadata": {},
   "source": [
    "- `Test case 4`\n"
   ]
  },
  {
   "cell_type": "code",
   "execution_count": 10,
   "metadata": {
    "vscode": {
     "languageId": "scilab"
    }
   },
   "outputs": [
    {
     "name": "stdout",
     "output_type": "stream",
     "text": [
      "\n",
      " ans  =\n",
      "\n",
      "         column 1 to 3\n",
      "\n",
      "   0. + 3.1415927i   8.8696044 + 3.140D-16i   6.2831853 + 3.1415927i\n",
      "\n",
      "         column 4\n",
      "\n",
      "   0. + 2.i\n",
      "\n"
     ]
    }
   ],
   "source": [
    "fftconv([%i %pi 2],[%pi %i],1)"
   ]
  },
  {
   "cell_type": "markdown",
   "metadata": {},
   "source": [
    "- `Test case 5`"
   ]
  },
  {
   "cell_type": "code",
   "execution_count": 11,
   "metadata": {
    "vscode": {
     "languageId": "scilab"
    }
   },
   "outputs": [
    {
     "name": "stdout",
     "output_type": "stream",
     "text": [
      "\n",
      " ans  =\n",
      "\n",
      "         column 1 to 4\n",
      "\n",
      "   87. + 1.421D-14i   238. - 2.842D-14i   442. + 3.847D-14i   646. + 1.i\n",
      "\n",
      "         column 5 to 7\n",
      "\n",
      "   415. + 437.i   659.31856 + 323.i   329.06193 + 269.i\n",
      "\n",
      "         column 8 to 10\n",
      "\n",
      "   267.50441 - 2.337D-14i   1.421D-14 + 5.1415927i   1.421D-14 + 2.842D-14i\n",
      "\n",
      "         column 11\n",
      "\n",
      "  -2.842D-14 + 1.837D-14i\n",
      "\n"
     ]
    }
   ],
   "source": [
    "fftconv([1 2 3 4 5*%i 2+%pi],[87 64 53 %i 0 0 ],2)"
   ]
  },
  {
   "cell_type": "markdown",
   "metadata": {},
   "source": [
    "# <span style=\"color:Green\">This function is consistent with Octave outputs</span>"
   ]
  }
 ],
 "metadata": {
  "kernelspec": {
   "display_name": "Scilab",
   "language": "scilab",
   "name": "scilab"
  },
  "language_info": {
   "file_extension": ".sci",
   "help_links": [
    {
     "text": "MetaKernel Magics",
     "url": "https://metakernel.readthedocs.io/en/latest/source/README.html"
    }
   ],
   "mimetype": "text/x-octave",
   "name": "octave",
   "version": "0.9.10"
  }
 },
 "nbformat": 4,
 "nbformat_minor": 2
}
