{
 "cells": [
  {
   "cell_type": "markdown",
   "metadata": {
    "vscode": {
     "languageId": "scilab"
    }
   },
   "source": [
    "# <span style=\"color:green\">fht</span>\n",
    "loading file \n",
    "<p>These results are obtained from <b>Scilab</b></p>"
   ]
  },
  {
   "cell_type": "code",
   "execution_count": 18,
   "metadata": {
    "vscode": {
     "languageId": "scilab"
    }
   },
   "outputs": [
    {
     "name": "stdout",
     "output_type": "stream",
     "text": [
      "\n",
      "\n"
     ]
    }
   ],
   "source": [
    "exec(\"F:\\Signal-processing-toolkit-devlopment-\\fht\\fht.sci\",-1)"
   ]
  },
  {
   "cell_type": "markdown",
   "metadata": {},
   "source": [
    "# <span style=\"color:orange\">The first calling Sequence</span>\n",
    "## fht(d)\n",
    "- `Test case 1`"
   ]
  },
  {
   "cell_type": "code",
   "execution_count": 19,
   "metadata": {
    "vscode": {
     "languageId": "scilab"
    }
   },
   "outputs": [
    {
     "name": "stdout",
     "output_type": "stream",
     "text": [
      "\n",
      " ans  =\n",
      "\n",
      "   22.         37.         30.     \n",
      "  -9.7320508  -41.712813  -31.51666\n",
      "  -6.2679492   13.712813   13.51666\n",
      "\n"
     ]
    }
   ],
   "source": [
    "fht([2 3 4;9 1 0;11 33 26])"
   ]
  },
  {
   "cell_type": "markdown",
   "metadata": {},
   "source": [
    "- `Testcase 2`"
   ]
  },
  {
   "cell_type": "code",
   "execution_count": 20,
   "metadata": {
    "vscode": {
     "languageId": "scilab"
    }
   },
   "outputs": [
    {
     "name": "stdout",
     "output_type": "stream",
     "text": [
      "\n",
      " ans  =\n",
      "\n",
      "   37.   17.  -7.  -15.\n",
      "\n"
     ]
    }
   ],
   "source": [
    "fht([8 19 7 3])"
   ]
  },
  {
   "cell_type": "markdown",
   "metadata": {},
   "source": [
    "# <span style=\"color:green\"> The second calling Sequence</span>\n",
    "## fht(d,n)\n",
    "- `test case 3`"
   ]
  },
  {
   "cell_type": "code",
   "execution_count": 21,
   "metadata": {
    "vscode": {
     "languageId": "scilab"
    }
   },
   "outputs": [
    {
     "name": "stdout",
     "output_type": "stream",
     "text": [
      "\n",
      " ans  =\n",
      "\n",
      "   2.   7.   10.\n",
      "   2.   7.   6. \n",
      "\n"
     ]
    }
   ],
   "source": [
    "fht([2 7 8;0 0 2;2 4 8;0 9 1],2)"
   ]
  },
  {
   "cell_type": "markdown",
   "metadata": {},
   "source": [
    "# <span style=\"color:green\"> The Third calling Sequence</span>\n",
    "## fht(d,n,dim)\n",
    "- `Test case 4`\n"
   ]
  },
  {
   "cell_type": "code",
   "execution_count": 22,
   "metadata": {
    "vscode": {
     "languageId": "scilab"
    }
   },
   "outputs": [
    {
     "name": "stdout",
     "output_type": "stream",
     "text": [
      "\n",
      " ans  =\n",
      "\n",
      "         column 1 to 7\n",
      "\n",
      "   16.   18.777616   17.820515   13.494277   7.4513778   2.  -0.7776157\n",
      "   2.    2.          2.          2.          2.          2.   2.       \n",
      "\n",
      "         column 8 to 10\n",
      "\n",
      "   0.1794854   4.5057233   10.548622\n",
      "   2.          2.          2.       \n",
      "\n"
     ]
    }
   ],
   "source": [
    "fht([9 7;2 0],10,2)"
   ]
  },
  {
   "cell_type": "markdown",
   "metadata": {},
   "source": [
    "- `Test case 5`"
   ]
  },
  {
   "cell_type": "code",
   "execution_count": 23,
   "metadata": {
    "vscode": {
     "languageId": "scilab"
    }
   },
   "outputs": [
    {
     "name": "stdout",
     "output_type": "stream",
     "text": [
      "\n",
      " d  = \n",
      "\n",
      "(:,:,1)\n",
      "\n",
      "   1.   8.   9.\n",
      "   7.   6.   5.\n",
      "   2.   7.   5.\n",
      "(:,:,2)\n",
      "\n",
      "   10.   11.   12.\n",
      "   3.    8.    1. \n",
      "   0.    7.    1. \n",
      "\n",
      " ans  =\n",
      "\n",
      "(:,:,1)\n",
      "\n",
      "   11.   19.   21.\n",
      "   10.   14.   6. \n",
      "   2.    14.   6. \n",
      "(:,:,2)\n",
      "\n",
      "  -9.  -3.  -3.\n",
      "   4.  -2.   4.\n",
      "   2.   0.   4.\n",
      "\n"
     ]
    }
   ],
   "source": [
    "d=[1 8 9;7 6 5;2 7 5];d(:,:,2)=[10 11 12;3 8 1;0 7 1]\n",
    "fht(d,[],3)"
   ]
  },
  {
   "cell_type": "markdown",
   "metadata": {},
   "source": [
    "# <span style=\"color:Green\"> the function is consistent with octave outputs</span>"
   ]
  },
  {
   "cell_type": "markdown",
   "metadata": {},
   "source": []
  }
 ],
 "metadata": {
  "kernelspec": {
   "display_name": "Scilab",
   "language": "scilab",
   "name": "scilab"
  },
  "language_info": {
   "file_extension": ".sci",
   "help_links": [
    {
     "text": "MetaKernel Magics",
     "url": "https://metakernel.readthedocs.io/en/latest/source/README.html"
    }
   ],
   "mimetype": "text/x-octave",
   "name": "octave",
   "version": "0.9.10"
  }
 },
 "nbformat": 4,
 "nbformat_minor": 2
}
