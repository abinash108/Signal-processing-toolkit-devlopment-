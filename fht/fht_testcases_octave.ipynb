{
 "cells": [
  {
   "cell_type": "markdown",
   "metadata": {
    "vscode": {
     "languageId": "scilab"
    }
   },
   "source": [
    "# <span style=\"color:green\">fht</span> \n",
    "<p>These results are obtained from <b>Octave</b></p>"
   ]
  },
  {
   "cell_type": "markdown",
   "metadata": {},
   "source": [
    "# <span style=\"color:orange\">The first calling Sequence</span>\n",
    "## fht(d)\n",
    "- `Test case 1`"
   ]
  },
  {
   "cell_type": "code",
   "execution_count": 13,
   "metadata": {
    "vscode": {
     "languageId": "scilab"
    }
   },
   "outputs": [
    {
     "name": "stdout",
     "output_type": "stream",
     "text": [
      "ans =\n",
      "\n",
      "   22.0000   37.0000   30.0000\n",
      "   -9.7321  -41.7128  -31.5167\n",
      "   -6.2679   13.7128   13.5167\n",
      "\n"
     ]
    }
   ],
   "source": [
    "fht([2 3 4;9 1 0;11 33 26])"
   ]
  },
  {
   "cell_type": "markdown",
   "metadata": {},
   "source": [
    "- `Testcase 2`"
   ]
  },
  {
   "cell_type": "code",
   "execution_count": 14,
   "metadata": {
    "vscode": {
     "languageId": "scilab"
    }
   },
   "outputs": [
    {
     "name": "stdout",
     "output_type": "stream",
     "text": [
      "ans =\n",
      "\n",
      "   37   17   -7  -15\n",
      "\n"
     ]
    }
   ],
   "source": [
    "fht([8 19 7 3])"
   ]
  },
  {
   "cell_type": "markdown",
   "metadata": {},
   "source": [
    "# <span style=\"color:green\"> The second calling Sequence</span>\n",
    "## fht(d,n)\n",
    "- `test case 3`"
   ]
  },
  {
   "cell_type": "code",
   "execution_count": 15,
   "metadata": {
    "vscode": {
     "languageId": "scilab"
    }
   },
   "outputs": [
    {
     "name": "stdout",
     "output_type": "stream",
     "text": [
      "ans =\n",
      "\n",
      "    2    7   10\n",
      "    2    7    6\n",
      "\n"
     ]
    }
   ],
   "source": [
    "fht([2 7 8;0 0 2;2 4 8;0 9 1],2)"
   ]
  },
  {
   "cell_type": "markdown",
   "metadata": {},
   "source": [
    "# <span style=\"color:green\"> The Third calling Sequence</span>\n",
    "## fht(d,n,dim)\n",
    "- `Test case 4`\n"
   ]
  },
  {
   "cell_type": "code",
   "execution_count": 16,
   "metadata": {
    "vscode": {
     "languageId": "scilab"
    }
   },
   "outputs": [
    {
     "name": "stdout",
     "output_type": "stream",
     "text": [
      "ans =\n",
      "\n",
      " Columns 1 through 8:\n",
      "\n",
      "   16.0000   18.7776   17.8205   13.4943    7.4514    2.0000   -0.7776    0.1795\n",
      "    2.0000    2.0000    2.0000    2.0000    2.0000    2.0000    2.0000    2.0000\n",
      "\n",
      " Columns 9 and 10:\n",
      "\n",
      "    4.5057   10.5486\n",
      "    2.0000    2.0000\n",
      "\n"
     ]
    }
   ],
   "source": [
    "fht([9 7;2 0],10,2)"
   ]
  },
  {
   "cell_type": "markdown",
   "metadata": {},
   "source": [
    "- `Test case 5`"
   ]
  },
  {
   "cell_type": "code",
   "execution_count": 17,
   "metadata": {
    "vscode": {
     "languageId": "scilab"
    }
   },
   "outputs": [
    {
     "name": "stdout",
     "output_type": "stream",
     "text": [
      "d =\n",
      "\n",
      "ans(:,:,1) =\n",
      "\n",
      "   1   8   9\n",
      "   7   6   5\n",
      "   2   7   5\n",
      "\n",
      "ans(:,:,2) =\n",
      "\n",
      "   10   11   12\n",
      "    3    8    1\n",
      "    0    7    1\n",
      "\n",
      "ans =\n",
      "\n",
      "ans(:,:,1) =\n",
      "\n",
      "   11   19   21\n",
      "   10   14    6\n",
      "    2   14    6\n",
      "\n",
      "ans(:,:,2) =\n",
      "\n",
      "  -9  -3  -3\n",
      "   4  -2   4\n",
      "   2   0   4\n",
      "\n"
     ]
    }
   ],
   "source": [
    "d=[1 8 9;7 6 5;2 7 5];d(:,:,2)=[10 11 12;3 8 1;0 7 1]\n",
    "fht(d,[],3)"
   ]
  },
  {
   "cell_type": "markdown",
   "metadata": {},
   "source": [
    "# <span style=\"color:Green\"> Same ouputs we are got from our scilab function</span>"
   ]
  }
 ],
 "metadata": {
  "kernelspec": {
   "display_name": "Octave",
   "language": "octave",
   "name": "octave"
  },
  "language_info": {
   "file_extension": ".m",
   "help_links": [
    {
     "text": "GNU Octave",
     "url": "https://www.gnu.org/software/octave/support.html"
    },
    {
     "text": "Octave Kernel",
     "url": "https://github.com/Calysto/octave_kernel"
    },
    {
     "text": "MetaKernel Magics",
     "url": "https://metakernel.readthedocs.io/en/latest/source/README.html"
    }
   ],
   "mimetype": "text/x-octave",
   "name": "octave",
   "version": "8.4.0"
  }
 },
 "nbformat": 4,
 "nbformat_minor": 2
}
